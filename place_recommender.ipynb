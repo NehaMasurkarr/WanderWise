{
  "nbformat": 4,
  "nbformat_minor": 0,
  "metadata": {
    "colab": {
      "provenance": []
    },
    "kernelspec": {
      "name": "python3",
      "display_name": "Python 3"
    },
    "language_info": {
      "name": "python"
    }
  },
  "cells": [
    {
      "cell_type": "code",
      "execution_count": 2,
      "metadata": {
        "id": "YgEbHn1NX_sh"
      },
      "outputs": [],
      "source": [
        "import pandas as pd\n",
        "import numpy as np\n",
        "from sklearn.feature_extraction.text import TfidfVectorizer\n",
        "from sklearn.metrics.pairwise import linear_kernel\n",
        "from tqdm import tqdm\n",
        "recommender = pd.read_csv('places.csv')\n",
        "df = recommender.reset_index(drop=True)\n"
      ]
    },
    {
      "cell_type": "code",
      "source": [
        "tf = TfidfVectorizer(analyzer='word', ngram_range=(1, 3), min_df=1, stop_words='english')\n",
        "tfidf_matrix = tf.fit_transform(df['Place'])"
      ],
      "metadata": {
        "id": "nZ5ifr_pYeol"
      },
      "execution_count": 5,
      "outputs": []
    },
    {
      "cell_type": "code",
      "source": [
        "# Compute cosine similarity matrix\n",
        "cosine_similarities = linear_kernel(tfidf_matrix, tfidf_matrix)"
      ],
      "metadata": {
        "id": "zlk6P1rvYxDD"
      },
      "execution_count": 6,
      "outputs": []
    },
    {
      "cell_type": "code",
      "source": [
        "results = {}\n",
        "for idx, row in df.iterrows():\n",
        "    similar_indices = cosine_similarities[idx].argsort()[:-100:-1]\n",
        "    similar_items = [(cosine_similarities[idx][i], df['PlaceID'].iloc[i]) for i in similar_indices]\n",
        "    results[idx] = similar_items[1:]"
      ],
      "metadata": {
        "id": "qZXgTdN7Y5G2"
      },
      "execution_count": 7,
      "outputs": []
    },
    {
      "cell_type": "code",
      "source": [
        "def item(id):\n",
        "    return df.loc[df['PlaceID'] == id]['Place'].tolist()[0].split(' - ')[0]"
      ],
      "metadata": {
        "id": "UBlywzPrY92x"
      },
      "execution_count": 8,
      "outputs": []
    },
    {
      "cell_type": "code",
      "source": [
        "def get_idx(id):\n",
        "    return df[df['PlaceID'] == id].index.tolist()[0]"
      ],
      "metadata": {
        "id": "p7IqRxc8ZC_G"
      },
      "execution_count": 9,
      "outputs": []
    },
    {
      "cell_type": "code",
      "source": [
        "def recommend(item_id, num):\n",
        "    output = {\"Suggested\": []}\n",
        "    recs = results[get_idx(item_id)][:num]    # Get recommended places\n",
        "    for rec in recs:\n",
        "        place_name = item(rec[1])\n",
        "        image_url = df.loc[df[\"Place\"] == place_name][\"ImageUrl\"].tolist()\n",
        "        output[\"Suggested\"].append([place_name, image_url])\n",
        "    return output"
      ],
      "metadata": {
        "id": "Yv-R6uU6ZD4v"
      },
      "execution_count": 10,
      "outputs": []
    }
  ]
}